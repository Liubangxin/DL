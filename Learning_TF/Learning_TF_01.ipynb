{
 "cells": [
  {
   "cell_type": "code",
   "execution_count": 1,
   "metadata": {},
   "outputs": [
    {
     "name": "stdout",
     "output_type": "stream",
     "text": [
      "Tensor(\"Const:0\", shape=(), dtype=float32) Tensor(\"Const_1:0\", shape=(), dtype=float32)\n"
     ]
    }
   ],
   "source": [
    "import tensorflow as tf\n",
    " \n",
    "node1 = tf.constant(3.0, tf.float32 )\n",
    "node2 = tf.constant(4.0)\n",
    "print(node1, node2)"
   ]
  },
  {
   "cell_type": "code",
   "execution_count": 2,
   "metadata": {},
   "outputs": [
    {
     "data": {
      "text/plain": [
       "[3.0, 4.0]"
      ]
     },
     "execution_count": 2,
     "metadata": {},
     "output_type": "execute_result"
    }
   ],
   "source": [
    "sess = tf.Session()\n",
    "sess.run([node1, node2])"
   ]
  },
  {
   "cell_type": "code",
   "execution_count": 3,
   "metadata": {},
   "outputs": [
    {
     "data": {
      "text/plain": [
       "7.0"
      ]
     },
     "execution_count": 3,
     "metadata": {},
     "output_type": "execute_result"
    }
   ],
   "source": [
    "node3 = tf.add(node1, node2)\n",
    "sess.run(node3)"
   ]
  },
  {
   "cell_type": "code",
   "execution_count": 6,
   "metadata": {},
   "outputs": [
    {
     "data": {
      "text/plain": [
       "5.0"
      ]
     },
     "execution_count": 6,
     "metadata": {},
     "output_type": "execute_result"
    }
   ],
   "source": [
    "a = tf.placeholder(tf.float32)\n",
    "b = tf.placeholder(tf.float32)\n",
    "adder_node = a + b\n",
    "sess.run(adder_node, feed_dict={a: 2, b:3})"
   ]
  },
  {
   "cell_type": "code",
   "execution_count": 10,
   "metadata": {},
   "outputs": [
    {
     "data": {
      "text/plain": [
       "array([ 0.        ,  0.30000001,  0.60000002,  0.90000004], dtype=float32)"
      ]
     },
     "execution_count": 10,
     "metadata": {},
     "output_type": "execute_result"
    }
   ],
   "source": [
    "W = tf.Variable([.3], tf.float32)\n",
    "b = tf.Variable([-.3], tf.float32)\n",
    "x = tf.placeholder(tf.float32)\n",
    "liner_model = W*x +ｂ\n",
    "init = tf.global_variables_initializer()\n",
    "sess.run(init)\n",
    "sess.run(liner_model, feed_dict={x: [1, 2, 3, 4]})"
   ]
  },
  {
   "cell_type": "code",
   "execution_count": 17,
   "metadata": {},
   "outputs": [
    {
     "data": {
      "text/plain": [
       "0.0"
      ]
     },
     "execution_count": 17,
     "metadata": {},
     "output_type": "execute_result"
    }
   ],
   "source": [
    "y = tf.placeholder(tf.float32)\n",
    "error_delta = y - liner_model\n",
    "mse = tf.reduce_sum(tf.square(error_delta))\n",
    "sess.run(mse, feed_dict={x: [1, 2, 3, 4], y: [0, -1, -2, -3]})"
   ]
  },
  {
   "cell_type": "code",
   "execution_count": 16,
   "metadata": {},
   "outputs": [
    {
     "data": {
      "text/plain": [
       "0.0"
      ]
     },
     "execution_count": 16,
     "metadata": {},
     "output_type": "execute_result"
    }
   ],
   "source": [
    "fixW = tf.assign(W, [-1.])\n",
    "fixb = tf.assign(b, [1])\n",
    "sess.run([fixW, fixb])\n",
    "sess.run(mse, feed_dict={x: [1, 2, 3, 4], y: [0, -1, -2, -3]})"
   ]
  },
  {
   "cell_type": "code",
   "execution_count": 33,
   "metadata": {},
   "outputs": [
    {
     "name": "stdout",
     "output_type": "stream",
     "text": [
      "[array([-0.21999997], dtype=float32), array([-0.456], dtype=float32)]\n",
      "[array([-0.7127021], dtype=float32), array([ 0.15530905], dtype=float32)]\n",
      "[array([-0.84270465], dtype=float32), array([ 0.53753263], dtype=float32)]\n",
      "[array([-0.913881], dtype=float32), array([ 0.74679965], dtype=float32)]\n",
      "[array([-0.95284992], dtype=float32), array([ 0.86137295], dtype=float32)]\n",
      "[array([-0.97418535], dtype=float32), array([ 0.92410177], dtype=float32)]\n",
      "[array([-0.98586655], dtype=float32), array([ 0.95844597], dtype=float32)]\n",
      "[array([-0.99226201], dtype=float32), array([ 0.97724938], dtype=float32)]\n",
      "[array([-0.99576342], dtype=float32), array([ 0.98754394], dtype=float32)]\n",
      "[array([-0.99768049], dtype=float32), array([ 0.99318033], dtype=float32)]\n"
     ]
    }
   ],
   "source": [
    "optimizer = tf.train.GradientDescentOptimizer(0.01)\n",
    "train = optimizer.minimize(mse)\n",
    "sess.run(init) # reset values to incorrect defaults.\n",
    "for i in range(500):\n",
    "    sess.run(train, feed_dict={x: [1, 2, 3, 4], y: [0, -1, -2, -3]})\n",
    "    if i % 50 == 0:\n",
    "        print(sess.run([W, b]))\n",
    "# print(sess.run([W, b]))"
   ]
  },
  {
   "cell_type": "code",
   "execution_count": 34,
   "metadata": {},
   "outputs": [
    {
     "name": "stdout",
     "output_type": "stream",
     "text": [
      "WARNING:tensorflow:Using temporary folder as model directory: C:\\Users\\LIUBAN~1\\AppData\\Local\\Temp\\tmp5rp77mtw\n",
      "INFO:tensorflow:Using default config.\n",
      "INFO:tensorflow:Using config: {'_keep_checkpoint_every_n_hours': 10000, '_tf_random_seed': None, '_save_checkpoints_secs': 600, '_master': '', '_task_id': 0, '_cluster_spec': <tensorflow.python.training.server_lib.ClusterSpec object at 0x0000018B50E1A860>, '_save_summary_steps': 100, '_is_chief': True, '_task_type': None, '_environment': 'local', '_evaluation_master': '', '_save_checkpoints_steps': None, '_num_ps_replicas': 0, '_tf_config': gpu_options {\n",
      "  per_process_gpu_memory_fraction: 1\n",
      "}\n",
      ", '_keep_checkpoint_max': 5}\n",
      "WARNING:tensorflow:Rank of input Tensor (1) should be the same as output_rank (2) for column. Will attempt to expand dims. It is highly recommended that you resize your input, as this behavior may change.\n",
      "WARNING:tensorflow:From D:\\Anaconda3\\envs\\tensorflow\\lib\\site-packages\\tensorflow\\contrib\\learn\\python\\learn\\estimators\\head.py:1362: scalar_summary (from tensorflow.python.ops.logging_ops) is deprecated and will be removed after 2016-11-30.\n",
      "Instructions for updating:\n",
      "Please switch to tf.summary.scalar. Note that tf.summary.scalar uses the node name instead of the tag. This means that TensorFlow will automatically de-duplicate summary names based on the scope they are created in. Also, passing a tensor or list of tags to a scalar summary op is no longer supported.\n",
      "INFO:tensorflow:Create CheckpointSaverHook.\n",
      "INFO:tensorflow:Saving checkpoints for 1 into C:\\Users\\LIUBAN~1\\AppData\\Local\\Temp\\tmp5rp77mtw\\model.ckpt.\n",
      "INFO:tensorflow:step = 1, loss = 2.25\n",
      "INFO:tensorflow:global_step/sec: 1378.34\n",
      "INFO:tensorflow:step = 101, loss = 0.0522518\n",
      "INFO:tensorflow:global_step/sec: 1063.07\n",
      "INFO:tensorflow:step = 201, loss = 0.0036179\n",
      "INFO:tensorflow:global_step/sec: 1074.51\n",
      "INFO:tensorflow:step = 301, loss = 0.00187588\n",
      "INFO:tensorflow:global_step/sec: 1040.94\n",
      "INFO:tensorflow:step = 401, loss = 0.000254427\n",
      "INFO:tensorflow:global_step/sec: 1306.25\n",
      "INFO:tensorflow:step = 501, loss = 2.75368e-05\n",
      "INFO:tensorflow:global_step/sec: 1427.58\n",
      "INFO:tensorflow:step = 601, loss = 3.32115e-06\n",
      "INFO:tensorflow:global_step/sec: 1359.58\n",
      "INFO:tensorflow:step = 701, loss = 6.36055e-07\n",
      "INFO:tensorflow:global_step/sec: 1708.18\n",
      "INFO:tensorflow:step = 801, loss = 1.07944e-07\n",
      "INFO:tensorflow:global_step/sec: 1998.59\n",
      "INFO:tensorflow:step = 901, loss = 1.17415e-08\n",
      "INFO:tensorflow:Saving checkpoints for 1000 into C:\\Users\\LIUBAN~1\\AppData\\Local\\Temp\\tmp5rp77mtw\\model.ckpt.\n",
      "INFO:tensorflow:Loss for final step: 9.24061e-10.\n",
      "WARNING:tensorflow:Rank of input Tensor (1) should be the same as output_rank (2) for column. Will attempt to expand dims. It is highly recommended that you resize your input, as this behavior may change.\n",
      "WARNING:tensorflow:From D:\\Anaconda3\\envs\\tensorflow\\lib\\site-packages\\tensorflow\\contrib\\learn\\python\\learn\\estimators\\head.py:1362: scalar_summary (from tensorflow.python.ops.logging_ops) is deprecated and will be removed after 2016-11-30.\n",
      "Instructions for updating:\n",
      "Please switch to tf.summary.scalar. Note that tf.summary.scalar uses the node name instead of the tag. This means that TensorFlow will automatically de-duplicate summary names based on the scope they are created in. Also, passing a tensor or list of tags to a scalar summary op is no longer supported.\n",
      "INFO:tensorflow:Starting evaluation at 2017-04-28-11:51:41\n",
      "INFO:tensorflow:Finished evaluation at 2017-04-28-11:51:42\n",
      "INFO:tensorflow:Saving dict for global step 1000: global_step = 1000, loss = 2.11196e-09\n",
      "WARNING:tensorflow:Skipping summary for global_step, must be a float or np.float32.\n",
      "{'global_step': 1000, 'loss': 2.1119602e-09}\n"
     ]
    }
   ],
   "source": [
    "import tensorflow as tf\n",
    "# NumPy is often used to load, manipulate and preprocess data.\n",
    "import numpy as np\n",
    "\n",
    "# Declare list of features. We only have one real-valued feature. There are many\n",
    "# other types of columns that are more complicated and useful.\n",
    "features = [tf.contrib.layers.real_valued_column(\"x\", dimension=1)]\n",
    "\n",
    "# An estimator is the front end to invoke training (fitting) and evaluation\n",
    "# (inference). There are many predefined types like linear regression,\n",
    "# logistic regression, linear classification, logistic classification, and\n",
    "# many neural network classifiers and regressors. The following code\n",
    "# provides an estimator that does linear regression.\n",
    "estimator = tf.contrib.learn.LinearRegressor(feature_columns=features)\n",
    "\n",
    "# TensorFlow provides many helper methods to read and set up data sets.\n",
    "# Here we use `numpy_input_fn`. We have to tell the function how many batches\n",
    "# of data (num_epochs) we want and how big each batch should be.\n",
    "x = np.array([1., 2., 3., 4.])\n",
    "y = np.array([0., -1., -2., -3.])\n",
    "input_fn = tf.contrib.learn.io.numpy_input_fn({\"x\":x}, y, batch_size=4,\n",
    "                                              num_epochs=1000)\n",
    "\n",
    "# We can invoke 1000 training steps by invoking the `fit` method and passing the\n",
    "# training data set.\n",
    "estimator.fit(input_fn=input_fn, steps=1000)\n",
    "\n",
    "# Here we evaluate how well our model did. In a real example, we would want\n",
    "# to use a separate validation and testing data set to avoid overfitting.\n",
    "print(estimator.evaluate(input_fn=input_fn))"
   ]
  },
  {
   "cell_type": "code",
   "execution_count": null,
   "metadata": {
    "collapsed": true
   },
   "outputs": [],
   "source": [
    ""
   ]
  }
 ],
 "metadata": {
  "kernelspec": {
   "display_name": "Python 3",
   "language": "python",
   "name": "python3"
  },
  "language_info": {
   "codemirror_mode": {
    "name": "ipython",
    "version": 3.0
   },
   "file_extension": ".py",
   "mimetype": "text/x-python",
   "name": "python",
   "nbconvert_exporter": "python",
   "pygments_lexer": "ipython3",
   "version": "3.5.3"
  }
 },
 "nbformat": 4,
 "nbformat_minor": 0
}